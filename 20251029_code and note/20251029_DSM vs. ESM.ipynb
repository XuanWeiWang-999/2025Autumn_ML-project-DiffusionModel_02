{
 "cells": [
  {
   "cell_type": "markdown",
   "id": "a3a95c69",
   "metadata": {},
   "source": [
    "# 比較 DSM loss 跟 ESM loss\n",
    "\n",
    "* DSM Loss: 先加噪 $y=x+\\sigma z,\\,\\, z\\sim N(0,I)$, 再最小化 $$L_{DSM}(\\theta)=\\mathbb{E}[\\,\\lambda(\\sigma)\\,\\, \\big||s_{\\theta}(y,\\sigma)-\\frac{x-y}{\\sigma}\\big||^2\\,],$$ 其中這邊用$\\lambda(\\sigma)=\\sigma^2$\n",
    "* ESM Loss: $$L_{ESM}(\\theta)=\\mathbb{E}_{x\\sim p}[\\frac{1}{2}||s_{\\theta}(x)||^2+\\text{div}_{x}s_{\\theta}(x)]$$\n"
   ]
  },
  {
   "cell_type": "code",
   "execution_count": null,
   "id": "acc0d8fe",
   "metadata": {},
   "outputs": [],
   "source": []
  },
  {
   "cell_type": "code",
   "execution_count": null,
   "id": "53cf38bd",
   "metadata": {},
   "outputs": [],
   "source": []
  }
 ],
 "metadata": {
  "language_info": {
   "name": "python"
  }
 },
 "nbformat": 4,
 "nbformat_minor": 5
}
