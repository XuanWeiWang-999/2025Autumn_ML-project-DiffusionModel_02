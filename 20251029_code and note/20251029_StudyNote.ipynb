{
 "cells": [
  {
   "cell_type": "markdown",
   "id": "b06fb433",
   "metadata": {},
   "source": [
    "# 這邊放一下讀書note"
   ]
  },
  {
   "cell_type": "markdown",
   "id": "c1e2b06b",
   "metadata": {},
   "source": [
    "## DDPM\n",
    "1. 網路文章──[解讀DDPM](https://lilianweng.github.io/posts/2021-07-11-diffusion-models/)\n",
    "2. "
   ]
  },
  {
   "cell_type": "markdown",
   "id": "232e0a2b",
   "metadata": {},
   "source": []
  }
 ],
 "metadata": {
  "language_info": {
   "name": "python"
  }
 },
 "nbformat": 4,
 "nbformat_minor": 5
}
