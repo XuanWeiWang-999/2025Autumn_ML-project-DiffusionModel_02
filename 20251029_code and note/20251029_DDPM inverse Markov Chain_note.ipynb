{
 "cells": [
  {
   "cell_type": "markdown",
   "id": "77c89a55",
   "metadata": {},
   "source": [
    "# DDPM Inverse Markov Chain (Ho et al., 2020)"
   ]
  },
  {
   "cell_type": "markdown",
   "id": "ff1a056e",
   "metadata": {},
   "source": [
    "## 1. Notation\n",
    "\n",
    "- 設 $\\beta_t \\in (0,1)$，$\\alpha_t := 1-\\beta_t$，$\\bar\\alpha_t := \\prod_{s=1}^t \\alpha_s$。  \n",
    "- 前向（加噪）一步：\n",
    "\n",
    "  $$\n",
    "  q(x_t \\mid x_{t-1}) = \\mathcal{N}\\!\\bigl(x_t; \\sqrt{\\alpha_t}\\,x_{t-1},\\,\\beta_t I\\bigr)\n",
    "  $$\n",
    "\n",
    "- 對任意 $t$ 的閉式抽樣：\n",
    "\n",
    "  $$\n",
    "  q(x_t \\mid x_0) = \\mathcal{N}\\!\\bigl(x_t; \\sqrt{\\bar\\alpha_t}\\,x_0,\\,(1-\\bar\\alpha_t)I\\bigr)\n",
    "  $$\n"
   ]
  },
  {
   "cell_type": "markdown",
   "id": "41952e89",
   "metadata": {},
   "source": [
    "## 2. 真實的「Bayes 逆向」後驗（理想）\n",
    "\n",
    "利用高斯線性模型的共軛性，可得對任意 $t \\ge 1$：\n",
    "\n",
    "$$\n",
    "q(x_{t-1}\\mid x_t, x_0) = \\mathcal{N}\\!\\bigl(x_{t-1};\\,\\tilde\\mu_t(x_t,x_0),\\,\\tilde\\beta_t I\\bigr)\n",
    "$$\n",
    "\n",
    "其中：\n",
    "\n",
    "$$\n",
    "\\tilde\\beta_t = \\frac{1-\\bar\\alpha_{t-1}}{1-\\bar\\alpha_t}\\,\\beta_t, \\qquad\n",
    "\\tilde\\mu_t(x_t,x_0) = \\frac{\\sqrt{\\bar\\alpha_{t-1}}\\,\\beta_t}{1-\\bar\\alpha_t}\\,x_0 + \\frac{\\sqrt{\\alpha_t}\\,(1-\\bar\\alpha_{t-1})}{1-\\bar\\alpha_t}\\,x_t\n",
    "$$\n",
    "\n",
    "> 注意：$\\tilde\\mu_t$ 依賴未知的 $x_0$，所以不能直接生成。"
   ]
  },
  {
   "cell_type": "markdown",
   "id": "5a17ef6b",
   "metadata": {},
   "source": [
    "## 3. 論文中的「inverse（反向）鏈」參數化\n",
    "\n",
    "以可學模型 $p_\\theta$ 近似 $q$ 的反向轉移：\n",
    "\n",
    "$$\n",
    "p_\\theta(x_{t-1}\\mid x_t) = \\mathcal{N}\\!\\bigl(x_{t-1};\\,\\mu_\\theta(x_t,t),\\,\\Sigma_\\theta(x_t,t)\\bigr), \\quad t = T,\\dots,1\n",
    "$$"
   ]
  },
  {
   "cell_type": "markdown",
   "id": "c359c4ce",
   "metadata": {},
   "source": [
    "### (a) 以「預測噪音」$\\epsilon_\\theta$ 的參數化\n",
    "\n",
    "Forward relation:\n",
    "\n",
    "$$\n",
    "x_t = \\sqrt{\\bar\\alpha_t}\\,x_0 + \\sqrt{1-\\bar\\alpha_t}\\,\\epsilon, \\quad \\epsilon \\sim \\mathcal{N}(0,I)\n",
    "$$\n",
    "\n",
    "訓練模型 $\\epsilon_\\theta(x_t, t) \\approx \\epsilon$，並定義：\n",
    "\n",
    "$$\n",
    "\\hat{x}_0(x_t,t) = \\frac{1}{\\sqrt{\\bar\\alpha_t}}\\Bigl(x_t - \\sqrt{1-\\bar\\alpha_t}\\,\\epsilon_\\theta(x_t,t)\\Bigr)\n",
    "$$\n",
    "\n",
    "帶回 $\\tilde\\mu_t$：\n",
    "\n",
    "$$\n",
    "\\mu_\\theta(x_t,t) = \\tilde\\mu_t(x_t, \\hat{x}_0) = \\frac{1}{\\sqrt{\\alpha_t}}\\!\\left(x_t - \\frac{\\beta_t}{\\sqrt{1-\\bar\\alpha_t}}\\epsilon_\\theta(x_t,t)\\right)\n",
    "$$\n",
    "\n",
    "方差部分採固定形式：\n",
    "\n",
    "$$\n",
    "\\Sigma_\\theta(x_t,t) = \\tilde\\beta_t I\n",
    "$$\n"
   ]
  },
  {
   "cell_type": "markdown",
   "id": "489b7b50",
   "metadata": {},
   "source": [
    "## 4. 反向（生成）演算法 —— Inverse Chain\n",
    "\n",
    "1. 取 $x_T \\sim \\mathcal{N}(0,I)$  \n",
    "2. 對 $t = T, T-1, \\dots, 2$：\n",
    "\n",
    "   $$\n",
    "   \\mu_\\theta = \\frac{1}{\\sqrt{\\alpha_t}}\\!\\left(x_t - \\frac{\\beta_t}{\\sqrt{1-\\bar\\alpha_t}}\\epsilon_\\theta(x_t,t)\\right)\n",
    "   $$\n",
    "\n",
    "   $$\n",
    "   \\sigma_t^2 = \\tilde\\beta_t\n",
    "   $$\n",
    "\n",
    "   $$\n",
    "   x_{t-1} \\sim \\mathcal{N}\\!\\bigl(\\mu_\\theta,\\,\\sigma_t^2 I\\bigr)\n",
    "   $$\n",
    "\n",
    "3. 在 $t=1$ 時，通常使用：\n",
    "   $$\n",
    "   x_0 = \\mu_\\theta(x_1, 1)\n",
    "   $$\n"
   ]
  },
  {
   "cell_type": "markdown",
   "id": "74825f27",
   "metadata": {},
   "source": [
    "## 5. 兩個常見等價寫法\n",
    "\n",
    "- **$\\hat{x}_0$-prediction：** 先預測 $\\hat{x}_0$，再代入 $\\tilde\\mu_t(x_t, \\hat{x}_0)$。\n",
    "- **$v$-prediction：** 另一種數值穩定參數化，與 $\\epsilon$ 版本等價。"
   ]
  },
  {
   "cell_type": "markdown",
   "id": "791ed347",
   "metadata": {},
   "source": []
  }
 ],
 "metadata": {
  "language_info": {
   "name": "python"
  }
 },
 "nbformat": 4,
 "nbformat_minor": 5
}
