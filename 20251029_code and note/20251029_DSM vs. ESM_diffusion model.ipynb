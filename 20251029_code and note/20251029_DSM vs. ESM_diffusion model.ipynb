{
 "cells": [
  {
   "cell_type": "markdown",
   "id": "a2698002",
   "metadata": {},
   "source": [
    "# 在 Diffusion model -> ESM loss vs. DSM loss\n"
   ]
  },
  {
   "cell_type": "markdown",
   "id": "24aeac54",
   "metadata": {},
   "source": [
    "## ESM 與 DSM 理論與目標函數對照\n",
    "\n",
    "### **1. ESM（Hyvärinen Score Matching）**\n",
    "\n",
    "直接在原始資料分佈 $p_{\\text{data}}(x)$ 上學習 score 函數  \n",
    "$s_\\theta(x) \\approx \\nabla_x \\log p(x)$。\n",
    "\n",
    "目標函數為：\n",
    "$$\n",
    "\\mathcal{L}_{\\text{ESM}}\n",
    "= \\mathbb{E}_{x}\\Big[\\tfrac{1}{2}\\|s_\\theta(x)\\|^2 + \\operatorname{div}_x s_\\theta(x)\\Big],\n",
    "$$\n",
    "\n",
    "其中散度項可利用 **Hutchinson’s trick** 近似：\n",
    "$$\n",
    "\\operatorname{tr}(J) \\approx v^\\top (\\partial s / \\partial x) v,\n",
    "$$\n",
    "$ v $ 為隨機向量（常用 Rademacher 或 Gaussian 噪聲）。\n",
    "\n",
    "---\n",
    "\n",
    "#### **2. DSM（Denoising Score Matching）**\n",
    "\n",
    "在加噪後的平滑分佈  \n",
    "$$\n",
    "q_\\sigma = p * \\mathcal{N}(0, \\sigma^2 I)\n",
    "$$\n",
    "上學習 denoised score：\n",
    "$$\n",
    "s_\\theta(y, \\sigma) \\approx \\nabla_y \\log q_\\sigma(y),\n",
    "$$\n",
    "其中 $ y = x + \\sigma z, \\; z \\sim \\mathcal{N}(0, I) $。\n",
    "\n",
    "目標函數為：\n",
    "$$\n",
    "\\mathcal{L}_{\\text{DSM}}\n",
    "= \\mathbb{E}\\Big[\\lambda(\\sigma)\n",
    "   \\big\\|s_\\theta(y, \\sigma) - \\tfrac{x - y}{\\sigma^2}\\big\\|^2\\Big].\n",
    "$$\n",
    "\n",
    "常見選擇是 $\\lambda(\\sigma) = \\sigma^2$ 來平衡不同噪聲層級。\n",
    "\n",
    "---\n",
    "\n",
    "### **3. 理論對齊關係**\n",
    "\n",
    "- DSM 學的是「**平滑後的 score**」$ \\nabla_y \\log q_\\sigma(y) $。  \n",
    "- 當 $ \\sigma \\to 0 $ 時，$ q_\\sigma \\to p $，此時 DSM 與 ESM 等價（相差常數項）。\n",
    "\n",
    "因此：\n",
    "- 在固定 $ \\sigma > 0$ 時，兩種 loss 不會完全一致。  \n",
    "- 若令 $ \\sigma $ 很小，DSM 模型在 **ESM 評估** 下會趨近於 ESM 模型。  \n",
    "- 同樣地，ESM 模型在小 $\\sigma$ 的 **DSM 目標** 下，其 loss 也會與 DSM 模型接近。\n",
    "\n",
    "---"
   ]
  },
  {
   "cell_type": "code",
   "execution_count": null,
   "id": "80cd35ab",
   "metadata": {},
   "outputs": [],
   "source": []
  }
 ],
 "metadata": {
  "language_info": {
   "name": "python"
  }
 },
 "nbformat": 4,
 "nbformat_minor": 5
}
